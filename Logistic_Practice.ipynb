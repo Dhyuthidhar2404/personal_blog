{
 "cells": [
  {
   "cell_type": "markdown",
   "id": "7be7de8a-5253-4b82-83f8-d8740d662059",
   "metadata": {
    "tags": []
   },
   "source": [
    "# Logistic Regression with a Neural Network mindset\n",
    "\n",
    "Welcome to your first (required) programming blog! We will build a logistic regression classifier to recognize cats. This assignment will step you through how to do this with a Neural Network mindset, and will also hone your intuitions about deep learning.\n",
    "\n",
    "**Instructions:**\n",
    "- Do not use loops (for/while) in your code, unless the instructions explicitly ask you to do so.\n",
    "- Use `np.dot(X,Y)` to calculate dot products.\n",
    "- We are going to use MNIST dataset, you can use any other,try it out and have fun!\n",
    "\n",
    "**You will learn to:**\n",
    "- Build the general architecture of a learning algorithm, including:\n",
    "    - Initializing parameters\n",
    "    - Calculating the cost function and its gradient\n",
    "    - Using an optimization algorithm (gradient descent) \n",
    "- Gather all three functions above into a main model function, in the right order."
   ]
  },
  {
   "cell_type": "code",
   "execution_count": 46,
   "id": "0dc8527a-45b5-4c4d-9819-8ebb12f89c35",
   "metadata": {
    "tags": []
   },
   "outputs": [],
   "source": [
    "import numpy as np\n",
    "import matplotlib.pyplot as plt\n",
    "from sklearn import datasets\n",
    "from sklearn.model_selection import train_test_split\n",
    "import requests\n",
    "from PIL import Image\n",
    "from io import BytesIO"
   ]
  },
  {
   "cell_type": "code",
   "execution_count": 13,
   "id": "0c77f1db-ddd0-44d9-aea8-a34f292ba162",
   "metadata": {
    "tags": []
   },
   "outputs": [
    {
     "name": "stdout",
     "output_type": "stream",
     "text": [
      "{'data': array([[ 0.,  0.,  5., ...,  0.,  0.,  0.],\n",
      "       [ 0.,  0.,  0., ..., 10.,  0.,  0.],\n",
      "       [ 0.,  0.,  0., ..., 16.,  9.,  0.],\n",
      "       ...,\n",
      "       [ 0.,  0.,  1., ...,  6.,  0.,  0.],\n",
      "       [ 0.,  0.,  2., ..., 12.,  0.,  0.],\n",
      "       [ 0.,  0., 10., ..., 12.,  1.,  0.]]), 'target': array([0, 1, 2, ..., 8, 9, 8]), 'frame': None, 'feature_names': ['pixel_0_0', 'pixel_0_1', 'pixel_0_2', 'pixel_0_3', 'pixel_0_4', 'pixel_0_5', 'pixel_0_6', 'pixel_0_7', 'pixel_1_0', 'pixel_1_1', 'pixel_1_2', 'pixel_1_3', 'pixel_1_4', 'pixel_1_5', 'pixel_1_6', 'pixel_1_7', 'pixel_2_0', 'pixel_2_1', 'pixel_2_2', 'pixel_2_3', 'pixel_2_4', 'pixel_2_5', 'pixel_2_6', 'pixel_2_7', 'pixel_3_0', 'pixel_3_1', 'pixel_3_2', 'pixel_3_3', 'pixel_3_4', 'pixel_3_5', 'pixel_3_6', 'pixel_3_7', 'pixel_4_0', 'pixel_4_1', 'pixel_4_2', 'pixel_4_3', 'pixel_4_4', 'pixel_4_5', 'pixel_4_6', 'pixel_4_7', 'pixel_5_0', 'pixel_5_1', 'pixel_5_2', 'pixel_5_3', 'pixel_5_4', 'pixel_5_5', 'pixel_5_6', 'pixel_5_7', 'pixel_6_0', 'pixel_6_1', 'pixel_6_2', 'pixel_6_3', 'pixel_6_4', 'pixel_6_5', 'pixel_6_6', 'pixel_6_7', 'pixel_7_0', 'pixel_7_1', 'pixel_7_2', 'pixel_7_3', 'pixel_7_4', 'pixel_7_5', 'pixel_7_6', 'pixel_7_7'], 'target_names': array([0, 1, 2, 3, 4, 5, 6, 7, 8, 9]), 'images': array([[[ 0.,  0.,  5., ...,  1.,  0.,  0.],\n",
      "        [ 0.,  0., 13., ..., 15.,  5.,  0.],\n",
      "        [ 0.,  3., 15., ..., 11.,  8.,  0.],\n",
      "        ...,\n",
      "        [ 0.,  4., 11., ..., 12.,  7.,  0.],\n",
      "        [ 0.,  2., 14., ..., 12.,  0.,  0.],\n",
      "        [ 0.,  0.,  6., ...,  0.,  0.,  0.]],\n",
      "\n",
      "       [[ 0.,  0.,  0., ...,  5.,  0.,  0.],\n",
      "        [ 0.,  0.,  0., ...,  9.,  0.,  0.],\n",
      "        [ 0.,  0.,  3., ...,  6.,  0.,  0.],\n",
      "        ...,\n",
      "        [ 0.,  0.,  1., ...,  6.,  0.,  0.],\n",
      "        [ 0.,  0.,  1., ...,  6.,  0.,  0.],\n",
      "        [ 0.,  0.,  0., ..., 10.,  0.,  0.]],\n",
      "\n",
      "       [[ 0.,  0.,  0., ..., 12.,  0.,  0.],\n",
      "        [ 0.,  0.,  3., ..., 14.,  0.,  0.],\n",
      "        [ 0.,  0.,  8., ..., 16.,  0.,  0.],\n",
      "        ...,\n",
      "        [ 0.,  9., 16., ...,  0.,  0.,  0.],\n",
      "        [ 0.,  3., 13., ..., 11.,  5.,  0.],\n",
      "        [ 0.,  0.,  0., ..., 16.,  9.,  0.]],\n",
      "\n",
      "       ...,\n",
      "\n",
      "       [[ 0.,  0.,  1., ...,  1.,  0.,  0.],\n",
      "        [ 0.,  0., 13., ...,  2.,  1.,  0.],\n",
      "        [ 0.,  0., 16., ..., 16.,  5.,  0.],\n",
      "        ...,\n",
      "        [ 0.,  0., 16., ..., 15.,  0.,  0.],\n",
      "        [ 0.,  0., 15., ..., 16.,  0.,  0.],\n",
      "        [ 0.,  0.,  2., ...,  6.,  0.,  0.]],\n",
      "\n",
      "       [[ 0.,  0.,  2., ...,  0.,  0.,  0.],\n",
      "        [ 0.,  0., 14., ..., 15.,  1.,  0.],\n",
      "        [ 0.,  4., 16., ..., 16.,  7.,  0.],\n",
      "        ...,\n",
      "        [ 0.,  0.,  0., ..., 16.,  2.,  0.],\n",
      "        [ 0.,  0.,  4., ..., 16.,  2.,  0.],\n",
      "        [ 0.,  0.,  5., ..., 12.,  0.,  0.]],\n",
      "\n",
      "       [[ 0.,  0., 10., ...,  1.,  0.,  0.],\n",
      "        [ 0.,  2., 16., ...,  1.,  0.,  0.],\n",
      "        [ 0.,  0., 15., ..., 15.,  0.,  0.],\n",
      "        ...,\n",
      "        [ 0.,  4., 16., ..., 16.,  6.,  0.],\n",
      "        [ 0.,  8., 16., ..., 16.,  8.,  0.],\n",
      "        [ 0.,  1.,  8., ..., 12.,  1.,  0.]]]), 'DESCR': \".. _digits_dataset:\\n\\nOptical recognition of handwritten digits dataset\\n--------------------------------------------------\\n\\n**Data Set Characteristics:**\\n\\n    :Number of Instances: 1797\\n    :Number of Attributes: 64\\n    :Attribute Information: 8x8 image of integer pixels in the range 0..16.\\n    :Missing Attribute Values: None\\n    :Creator: E. Alpaydin (alpaydin '@' boun.edu.tr)\\n    :Date: July; 1998\\n\\nThis is a copy of the test set of the UCI ML hand-written digits datasets\\nhttps://archive.ics.uci.edu/ml/datasets/Optical+Recognition+of+Handwritten+Digits\\n\\nThe data set contains images of hand-written digits: 10 classes where\\neach class refers to a digit.\\n\\nPreprocessing programs made available by NIST were used to extract\\nnormalized bitmaps of handwritten digits from a preprinted form. From a\\ntotal of 43 people, 30 contributed to the training set and different 13\\nto the test set. 32x32 bitmaps are divided into nonoverlapping blocks of\\n4x4 and the number of on pixels are counted in each block. This generates\\nan input matrix of 8x8 where each element is an integer in the range\\n0..16. This reduces dimensionality and gives invariance to small\\ndistortions.\\n\\nFor info on NIST preprocessing routines, see M. D. Garris, J. L. Blue, G.\\nT. Candela, D. L. Dimmick, J. Geist, P. J. Grother, S. A. Janet, and C.\\nL. Wilson, NIST Form-Based Handprint Recognition System, NISTIR 5469,\\n1994.\\n\\n.. topic:: References\\n\\n  - C. Kaynak (1995) Methods of Combining Multiple Classifiers and Their\\n    Applications to Handwritten Digit Recognition, MSc Thesis, Institute of\\n    Graduate Studies in Science and Engineering, Bogazici University.\\n  - E. Alpaydin, C. Kaynak (1998) Cascading Classifiers, Kybernetika.\\n  - Ken Tang and Ponnuthurai N. Suganthan and Xi Yao and A. Kai Qin.\\n    Linear dimensionalityreduction using relevance weighted LDA. School of\\n    Electrical and Electronic Engineering Nanyang Technological University.\\n    2005.\\n  - Claudio Gentile. A New Approximate Maximal Margin Classification\\n    Algorithm. NIPS. 2000.\\n\"}\n"
     ]
    }
   ],
   "source": [
    "digits = datasets.load_digits()\n",
    "print(digits)"
   ]
  },
  {
   "cell_type": "code",
   "execution_count": 47,
   "id": "41b973a5-89e9-40e9-b127-d05920b8cac7",
   "metadata": {
    "tags": []
   },
   "outputs": [
    {
     "name": "stdout",
     "output_type": "stream",
     "text": [
      "(1797, 8, 8)\n",
      "[[ 0.  0.  5. 13.  9.  1.  0.  0.]\n",
      " [ 0.  0. 13. 15. 10. 15.  5.  0.]\n",
      " [ 0.  3. 15.  2.  0. 11.  8.  0.]\n",
      " [ 0.  4. 12.  0.  0.  8.  8.  0.]\n",
      " [ 0.  5.  8.  0.  0.  9.  8.  0.]\n",
      " [ 0.  4. 11.  0.  1. 12.  7.  0.]\n",
      " [ 0.  2. 14.  5. 10. 12.  0.  0.]\n",
      " [ 0.  0.  6. 13. 10.  0.  0.  0.]]\n"
     ]
    }
   ],
   "source": [
    "print(digits.images.shape)  # Will show (1797, 8, 8)\n",
    "print(digits.images[0])  # Prints the first 8×8 image"
   ]
  },
  {
   "cell_type": "code",
   "execution_count": 48,
   "id": "bffe6cd4-9f02-4a2d-b72a-324800f843f4",
   "metadata": {
    "tags": []
   },
   "outputs": [
    {
     "name": "stdout",
     "output_type": "stream",
     "text": [
      "(1797, 64)\n"
     ]
    }
   ],
   "source": [
    "print(digits.data.shape)"
   ]
  },
  {
   "cell_type": "code",
   "execution_count": 49,
   "id": "34186c68-ddd7-4126-94f2-584a5a78cc1b",
   "metadata": {
    "tags": []
   },
   "outputs": [
    {
     "name": "stdout",
     "output_type": "stream",
     "text": [
      "[ 0.  0.  5. 13.  9.  1.  0.  0.  0.  0. 13. 15. 10. 15.  5.  0.  0.  3.\n",
      " 15.  2.  0. 11.  8.  0.  0.  4. 12.  0.  0.  8.  8.  0.  0.  5.  8.  0.\n",
      "  0.  9.  8.  0.  0.  4. 11.  0.  1. 12.  7.  0.  0.  2. 14.  5. 10. 12.\n",
      "  0.  0.  0.  0.  6. 13. 10.  0.  0.  0.]\n"
     ]
    }
   ],
   "source": [
    "print(digits.data[0])"
   ]
  },
  {
   "cell_type": "code",
   "execution_count": 15,
   "id": "5ca68be3-224d-474f-9b1c-3f13bd8f3b9e",
   "metadata": {
    "tags": []
   },
   "outputs": [
    {
     "name": "stdout",
     "output_type": "stream",
     "text": [
      "[   0    1   10   11   20   21   30   36   42   47   48   49   55   56\n",
      "   70   72   78   79   80   85   90   93   99  101  107  126  130  131\n",
      "  140  141  150  151  160  166  172  177  178  179  185  186  200  202\n",
      "  208  209  210  215  218  221  227  229  235  252  256  257  266  267\n",
      "  276  277  286  292  298  303  304  305  311  312  326  328  334  335\n",
      "  336  341  346  349  355  357  363  382  386  387  396  397  406  407\n",
      "  416  422  428  433  434  435  441  442  456  458  464  465  466  471\n",
      "  476  479  485  487  493  512  516  517  526  527  536  537  546  552\n",
      "  558  563  564  565  571  572  586  588  594  595  596  601  606  609\n",
      "  615  617  623  642  646  647  656  657  666  667  676  682  688  693\n",
      "  694  695  701  702  716  718  724  725  726  731  736  739  745  747\n",
      "  753  772  776  777  786  787  796  797  806  812  818  823  824  825\n",
      "  831  832  846  848  854  855  856  861  866  869  875  877  883  902\n",
      "  906  915  916  925  926  935  941  947  952  957  958  972  974  980\n",
      "  981  982  987  991  994 1000 1002 1008 1025 1029 1030 1039 1040 1049\n",
      " 1050 1059 1065 1071 1076 1077 1078 1082 1083 1097 1099 1105 1106 1107\n",
      " 1112 1117 1120 1126 1128 1134 1153 1157 1158 1167 1168 1177 1178 1187\n",
      " 1193 1199 1204 1205 1206 1212 1213 1227 1229 1235 1236 1237 1242 1247\n",
      " 1250 1256 1258 1264 1283 1287 1288 1297 1298 1307 1308 1317 1323 1329\n",
      " 1334 1335 1336 1342 1343 1357 1359 1365 1366 1367 1372 1377 1380 1386\n",
      " 1388 1394 1413 1415 1416 1425 1426 1435 1436 1445 1451 1457 1462 1463\n",
      " 1464 1470 1471 1485 1487 1493 1494 1495 1500 1505 1508 1514 1516 1522\n",
      " 1541 1545 1546 1555 1556 1563 1564 1573 1579 1585 1590 1591 1592 1598\n",
      " 1599 1613 1615 1620 1621 1626 1631 1634 1640 1642 1648 1663 1667 1668\n",
      " 1677 1678 1687 1688 1697 1703 1709 1714 1715 1716 1722 1723 1737 1739\n",
      " 1745 1746 1747 1752 1757 1760 1766 1768 1774 1793]\n"
     ]
    }
   ],
   "source": [
    "idx = np.where((digits.target == 0) | (digits.target == 1))[0]\n",
    "print(idx)"
   ]
  },
  {
   "cell_type": "code",
   "execution_count": 29,
   "id": "cf53a5ee-a9bc-40aa-9afa-8267739059e5",
   "metadata": {
    "tags": []
   },
   "outputs": [
    {
     "data": {
      "image/png": "[encoded data removed]",
      "text/plain": [
       "<Figure size 400x400 with 1 Axes>"
      ]
     },
     "metadata": {},
     "output_type": "display_data"
    }
   ],
   "source": [
    "# you can take the above indexes and place it here you can either see a 1 in the plot or 0.\n",
    "import matplotlib.pyplot as plt\n",
    "from sklearn import datasets\n",
    "\n",
    "# Load the digits dataset\n",
    "digits = datasets.load_digits()\n",
    "\n",
    "# Display digit at index 0\n",
    "plt.figure(figsize=(4, 4))\n",
    "plt.imshow(digits.images[861], cmap='gray') # change the index so that you can change image of the number and .images[] get the 3d array of the image\n",
    "plt.title(f\"This is a {digits.target[861]}\") # change the index so that you can change the label of the number\n",
    "# plt.axis('off')\n",
    "plt.show()# you can see it is a 8 * 8 image which means there are maximum 16 pixels (0 to 16)\n",
    "# 0 represents white/blank space\n",
    "# 16 represents the darkest shade (black)"
   ]
  },
  {
   "cell_type": "code",
   "execution_count": 33,
   "id": "fc321b50-16ae-4682-89c8-1cc6227d838c",
   "metadata": {
    "tags": []
   },
   "outputs": [],
   "source": [
    "\n",
    "def load_basic_dataset():\n",
    "    \"\"\"\n",
    "    Load a simple dataset for binary classification: digits 0 and 1 from MNIST\n",
    "    This dataset is available through scikit-learn and doesn't require downloading files\n",
    "    \n",
    "    Returns:\n",
    "    X_train -- training set features\n",
    "    y_train -- training set labels\n",
    "    X_test -- test set features\n",
    "    y_test -- test set labels\n",
    "    classes -- class labels\n",
    "    \"\"\"\n",
    "    # Load digits dataset from sklearn\n",
    "    digits = datasets.load_digits()\n",
    "    \n",
    "    # We'll use only digit 0 and 1 to make it a binary classification like cat/non-cat\n",
    "    idx = np.where((digits.target == 0) | (digits.target == 1))[0]\n",
    "    X = digits.data[idx] # this will get the 2d array of the image\n",
    "    y = digits.target[idx] # gets 1d array from 0 to 9, but we will only get either 0 or 1 because idx's are the indexes of 1's and 0's\n",
    "    \n",
    "    # Split dataset into train and test sets\n",
    "    X_train, X_test, y_train, y_test = train_test_split(X, y, test_size=0.2, random_state=42)\n",
    "    \n",
    "    # Reshape to the format (features, examples)\n",
    "    X_train = X_train.T / 16.0  # Normalize to [0,1] - maximum value of a pixel in MNIST is 16\n",
    "    X_test = X_test.T / 16.0\n",
    "    y_train = y_train.reshape(1, -1)\n",
    "    y_test = y_test.reshape(1, -1)\n",
    "    \n",
    "    classes = np.array([\"non-digit-1\", \"digit-1\"])\n",
    "    \n",
    "    return X_train, y_train, X_test, y_test, classes"
   ]
  },
  {
   "cell_type": "markdown",
   "id": "f42667cd-7837-4fbe-93e0-2e7554fa6b2b",
   "metadata": {},
   "source": [
    "## Sigmoid Function"
   ]
  },
  {
   "cell_type": "code",
   "execution_count": 35,
   "id": "23d06461-ccf1-49c0-97cb-d2058d0c26fe",
   "metadata": {
    "tags": []
   },
   "outputs": [],
   "source": [
    "# We have divided the data into train and test data.\n",
    "# Now as we know in logistic regression we wont take the data directly, we will apply sigmoid function as it is a classifcation model\n",
    "# We need to make sure solution will be between 0 and 1 instead of 0 to infinity, so that's the reason we apply sigmoid function \n",
    "# We all know the formula of sigmoid function is 1/(1+e^-x). \n",
    "# So let's make the code to  sigmoid funciton\n",
    "def sigmoid(z):\n",
    "    \"\"\"\n",
    "    Compute the sigmoid of z\n",
    "    \n",
    "    Arguments:\n",
    "    z -- A scalar or numpy array of any size.\n",
    "    \n",
    "    Return:\n",
    "    s -- sigmoid(z)\n",
    "    \"\"\"\n",
    "    s = 1 / (1 + np.exp(-z))\n",
    "    return s"
   ]
  },
  {
   "cell_type": "markdown",
   "id": "93eb937f-6e36-4250-a3fe-1760e41cf6a6",
   "metadata": {},
   "source": [
    "## Initializing parameters\n",
    "Implement parameter initialization in the cell below. You have to initialize w as a vector of zeros. If you don't know what numpy function to use, look up np.zeros() in the Numpy library's documentation.\n",
    "\n",
    "We have an image of 8*8 so that means an array will be of size 64.(no of features)\n",
    "dim = 64"
   ]
  },
  {
   "cell_type": "code",
   "execution_count": 36,
   "id": "acb4fd96-a315-487c-b90c-63c9fdb3e084",
   "metadata": {
    "tags": []
   },
   "outputs": [],
   "source": [
    "def initialize_with_zeros(dim):\n",
    "    \"\"\"\n",
    "    This function creates a vector of zeros of shape (dim, 1) for w and initializes b to 0.\n",
    "    \n",
    "    Argument:\n",
    "    dim -- size of the w vector we want (or number of parameters in this case)\n",
    "    \n",
    "    Returns:\n",
    "    w -- initialized vector of shape (dim, 1)\n",
    "    b -- initialized scalar (corresponds to the bias) of type float\n",
    "    \"\"\"\n",
    "    w = np.zeros((dim, 1))\n",
    "    b = 0.0\n",
    "    \n",
    "    return w, b"
   ]
  },
  {
   "cell_type": "markdown",
   "id": "6d32d1b7-8f78-4427-86e2-e3759ed8f67e",
   "metadata": {},
   "source": [
    "## Forward and Backward propagation\n",
    "Now that your parameters are initialized, you can do the \"forward\" and \"backward\" propagation steps for learning the parameters.\n",
    "## propagate\n",
    "Implement a function `propagate()` that computes the cost function and its gradient.\n",
    "\n",
    "**Hints**:\n",
    "\n",
    "Forward Propagation:\n",
    "- You get X\n",
    "- You compute $A = \\sigma(w^T X + b) = (a^{(1)}, a^{(2)}, ..., a^{(m-1)}, a^{(m)})$\n",
    "- You calculate the cost function: $J = -\\frac{1}{m}\\sum_{i=1}^{m}(y^{(i)}\\log(a^{(i)})+(1-y^{(i)})\\log(1-a^{(i)}))$\n",
    "\n",
    "Here are the two formulas you will be using for backward propagation: \n",
    "\n",
    "$$ \\frac{\\partial J}{\\partial w} = \\frac{1}{m}X(A-Y)^T\\tag{7}$$\n",
    "$$ \\frac{\\partial J}{\\partial b} = \\frac{1}{m} \\sum_{i=1}^m (a^{(i)}-y^{(i)})\\tag{8}$$"
   ]
  },
  {
   "cell_type": "code",
   "execution_count": 39,
   "id": "7eb0b3ab-4d2c-4f20-83ea-08dcfaf937ec",
   "metadata": {
    "tags": []
   },
   "outputs": [],
   "source": [
    "def propagate(w, b, X, Y):\n",
    "    \"\"\"\n",
    "    Implement the cost function and its gradient\n",
    "    \n",
    "    Arguments:\n",
    "    w -- weights, a numpy array of size (num_px * num_px * 3, 1)\n",
    "    b -- bias, a scalar\n",
    "    X -- data of size (num_px * num_px * 3, number of examples)\n",
    "    Y -- true \"label\" vector (containing 0 if non-cat, 1 if cat) of size (1, number of examples)\n",
    "    \n",
    "    Return:\n",
    "    grads -- dictionary containing the gradients of the weights and bias\n",
    "            (dw -- gradient of the loss with respect to w, thus same shape as w)\n",
    "            (db -- gradient of the loss with respect to b, thus same shape as b)\n",
    "    cost -- negative log-likelihood cost for logistic regression\n",
    "    \"\"\"\n",
    "    \n",
    "    m = X.shape[1] # number of training examples we are using for the problem that means number of images(2d arrays)\n",
    "    \n",
    "    # Forward propagation\n",
    "    Z = np.dot(w.T, X) + b\n",
    "    A = sigmoid(Z)\n",
    "    \n",
    "    # Add epsilon to avoid log(0)\n",
    "    epsilon = 1e-10\n",
    "    cost = -np.sum(Y * np.log(A + epsilon) + (1 - Y) * np.log(1 - A + epsilon)) / m # dividing by m to get the average cost\n",
    "    \n",
    "    # Backward propagation\n",
    "    dw = np.dot(X, (A - Y).T) / m # dividing by m to get the average gradient\n",
    "    db = np.sum(A - Y) / m\n",
    "    \n",
    "    cost = float(np.squeeze(cost))\n",
    "    \n",
    "    grads = {\"dw\": dw, # change in weight and change in bias\n",
    "             \"db\": db}\n",
    "    \n",
    "    return grads, cost"
   ]
  },
  {
   "cell_type": "markdown",
   "id": "2b00ecdb-da7e-4a96-a3e8-af6811f7aaae",
   "metadata": {},
   "source": [
    "## Optimization\n",
    "- You have initialized your parameters.\n",
    "- You are also able to compute a cost function and its gradient.\n",
    "- Now, you want to update the parameters using gradient descent.\n",
    "\n",
    "<a name='ex-6'></a>\n",
    "### Exercise 6 - optimize\n",
    "Write down the optimization function. The goal is to learn $w$ and $b$ by minimizing the cost function $J$. For a parameter $\\theta$, the update rule is $ \\theta = \\theta - \\alpha \\text{ } d\\theta$, where $\\alpha$ is the learning rate."
   ]
  },
  {
   "cell_type": "code",
   "execution_count": 40,
   "id": "4f0bcf25-1c6c-48c5-911c-468233e69dfe",
   "metadata": {
    "tags": []
   },
   "outputs": [],
   "source": [
    "\n",
    "def optimize(w, b, X, Y, num_iterations=100, learning_rate=0.009, print_cost=False):\n",
    "    \"\"\"\n",
    "    This function optimizes w and b by running a gradient descent algorithm\n",
    "    \n",
    "    Arguments:\n",
    "    w -- weights, a numpy array of size (num_px * num_px * 3, 1) (64*64*3)\n",
    "    b -- bias, a scalar\n",
    "    X -- data of shape (num_px * num_px * 3, number of examples)\n",
    "    Y -- true \"label\" vector (containing 0 if non-cat, 1 if cat), of shape (1, number of examples)\n",
    "    num_iterations -- number of iterations of the optimization loop\n",
    "    learning_rate -- learning rate of the gradient descent update rule\n",
    "    print_cost -- True to print the loss every 100 steps\n",
    "    \n",
    "    Returns:\n",
    "    params -- dictionary containing the weights w and bias b\n",
    "    grads -- dictionary containing the gradients of the weights and bias with respect to the cost function\n",
    "    costs -- list of all the costs computed during the optimization, this will be used to plot the learning curve.\n",
    "    \"\"\"\n",
    "    \n",
    "    w = w.copy()\n",
    "    b = float(b)\n",
    "    \n",
    "    costs = []\n",
    "    \n",
    "    for i in range(num_iterations):\n",
    "        # Cost and gradient calculation\n",
    "        grads, cost = propagate(w, b, X, Y)\n",
    "        \n",
    "        # Retrieve derivatives from grads\n",
    "        dw = grads[\"dw\"]\n",
    "        db = grads[\"db\"]\n",
    "        \n",
    "        # Update rule\n",
    "        w = w - learning_rate * dw\n",
    "        b = b - learning_rate * db\n",
    "        \n",
    "        # Record the costs\n",
    "        # For every 100 iterations we will record the cost instead of recording for every single iterations\n",
    "        if i % 100 == 0:\n",
    "            costs.append(cost)\n",
    "            \n",
    "            # Print the cost every 100 training iterations\n",
    "            if print_cost:\n",
    "                print(f\"Cost after iteration {i}: {cost}\")\n",
    "    \n",
    "    params = {\"w\": w,\n",
    "              \"b\": b}\n",
    "    \n",
    "    grads = {\"dw\": dw,\n",
    "             \"db\": db}\n",
    "    \n",
    "    return params, grads, costs"
   ]
  },
  {
   "cell_type": "markdown",
   "id": "61855ab0-833c-44ce-830e-bcbbcc90e116",
   "metadata": {},
   "source": [
    "## predict\n",
    "The previous function will output the learned w and b. We are able to use w and b to predict the labels for a dataset X. Implement the `predict()` function. There are two steps to computing predictions:\n",
    "\n",
    "1. Calculate $\\hat{Y} = A = \\sigma(w^T X + b)$\n",
    "\n",
    "2. Convert the entries of a into 0 (if activation <= 0.5) or 1 (if activation > 0.5), stores the predictions in a vector `Y_prediction`. If you wish, you can use an `if`/`else` statement in a `for` loop (though there is also a way to vectorize this). "
   ]
  },
  {
   "cell_type": "code",
   "execution_count": 41,
   "id": "47559f49-cc78-4e18-b34e-faca0808d38f",
   "metadata": {
    "tags": []
   },
   "outputs": [],
   "source": [
    "def predict(w, b, X):\n",
    "    \"\"\"\n",
    "    Predict whether the label is 0 or 1 using learned logistic regression parameters (w, b)\n",
    "    \n",
    "    Arguments:\n",
    "    w -- weights, a numpy array of size (num_px * num_px * 1, 1) as this is gray scale image, if it is color image then * 3 instead of * 1.\n",
    "    b -- bias, a scalar\n",
    "    X -- data of size (num_px * num_px * 1, number of examples)\n",
    "    \n",
    "    Returns:\n",
    "    Y_prediction -- a numpy array (vector) containing all predictions (0/1) for the examples in X\n",
    "    \"\"\"\n",
    "    \n",
    "    m = X.shape[1]\n",
    "    Y_prediction = np.zeros((1, m))\n",
    "    w = w.reshape(X.shape[0], 1)\n",
    "    \n",
    "    # Compute probabilities\n",
    "    A = sigmoid(np.dot(w.T, X) + b)\n",
    "    \n",
    "    # Convert probabilities to 0/1 predictions\n",
    "    # you can either use Z.shape[1] in place of A as both have same shapes but you need to initialize or take Z as the parameter of the function\n",
    "    for i in range(A.shape[1]):\n",
    "        if A[0, i] > 0.5:\n",
    "            Y_prediction[0, i] = 1\n",
    "        else:\n",
    "            Y_prediction[0, i] = 0\n",
    "    \n",
    "    return Y_prediction"
   ]
  },
  {
   "cell_type": "markdown",
   "id": "d2c37246-f5d9-4d15-8639-20db1657abb0",
   "metadata": {},
   "source": [
    "## Merge all functions into a model ##\n",
    "\n",
    "You will now see how the overall model is structured by putting together all the building blocks (functions implemented in the previous parts) together, in the right order.\n",
    "\n",
    "<a name='ex-8'></a>\n",
    "### model\n",
    "Implement the model function. Use the following notation:\n",
    "    - Y_prediction_test for your predictions on the test set\n",
    "    - Y_prediction_train for your predictions on the train set\n",
    "    - parameters, grads, costs for the outputs of optimize()"
   ]
  },
  {
   "cell_type": "code",
   "execution_count": 42,
   "id": "7ad16fe9-bb46-4cbb-8084-178fd149ceeb",
   "metadata": {
    "tags": []
   },
   "outputs": [],
   "source": [
    "def model(X_train, Y_train, X_test, Y_test, num_iterations=2000, learning_rate=0.5, print_cost=False):\n",
    "    \"\"\"\n",
    "    Builds the logistic regression model\n",
    "    \n",
    "    Arguments:\n",
    "    X_train -- training set represented by a numpy array of shape (num_features, m_train)\n",
    "    Y_train -- training labels represented by a numpy array (vector) of shape (1, m_train)\n",
    "    X_test -- test set represented by a numpy array of shape (num_features, m_test)\n",
    "    Y_test -- test labels represented by a numpy array (vector) of shape (1, m_test)\n",
    "    num_iterations -- hyperparameter representing the number of iterations to optimize the parameters\n",
    "    learning_rate -- hyperparameter representing the learning rate used in the update rule of optimize()\n",
    "    print_cost -- Set to true to print the cost every 100 iterations\n",
    "    \n",
    "    Returns:\n",
    "    d -- dictionary containing information about the model.\n",
    "    \"\"\"\n",
    "    \n",
    "    # Initialize parameters\n",
    "    w, b = initialize_with_zeros(X_train.shape[0])\n",
    "    \n",
    "    # Gradient descent\n",
    "    parameters, grads, costs = optimize(w, b, X_train, Y_train, num_iterations, learning_rate, print_cost)\n",
    "    \n",
    "    # Retrieve parameters w and b from dictionary \"parameters\"\n",
    "    w = parameters[\"w\"]\n",
    "    b = parameters[\"b\"]\n",
    "    \n",
    "    # Predict test/train set examples\n",
    "    Y_prediction_test = predict(w, b, X_test)\n",
    "    Y_prediction_train = predict(w, b, X_train)\n",
    "    \n",
    "    # Print train/test errors\n",
    "    train_accuracy = 100 - np.mean(np.abs(Y_prediction_train - Y_train)) * 100\n",
    "    test_accuracy = 100 - np.mean(np.abs(Y_prediction_test - Y_test)) * 100\n",
    "    \n",
    "    print(f\"Train accuracy: {train_accuracy:.2f}%\")\n",
    "    print(f\"Test accuracy: {test_accuracy:.2f}%\")\n",
    "    \n",
    "    d = {\n",
    "        \"costs\": costs,\n",
    "        \"Y_prediction_test\": Y_prediction_test,\n",
    "        \"Y_prediction_train\": Y_prediction_train,\n",
    "        \"w\": w,\n",
    "        \"b\": b,\n",
    "        \"learning_rate\": learning_rate,\n",
    "        \"num_iterations\": num_iterations\n",
    "    }\n",
    "    \n",
    "    return d"
   ]
  },
  {
   "cell_type": "code",
   "execution_count": 43,
   "id": "91e7a0cc-734a-4961-a107-c62a0b8c1107",
   "metadata": {
    "tags": []
   },
   "outputs": [],
   "source": [
    "def test_with_online_image(url, model_dict, shape):\n",
    "    \"\"\"\n",
    "    Tests the model with an image from a URL\n",
    "    \n",
    "    Arguments:\n",
    "    url -- URL of the image\n",
    "    model_dict -- dictionary containing the model parameters\n",
    "    shape -- the shape of the image expected by the model\n",
    "    \n",
    "    Returns:\n",
    "    prediction -- the prediction made by the model (0 or 1)\n",
    "    \"\"\"\n",
    "    response = requests.get(url)\n",
    "    img = Image.open(BytesIO(response.content))\n",
    "    img = img.resize((8, 8)).convert('L')  # Resize to 8x8 and grayscale\n",
    "    \n",
    "    # Convert to numpy array and flatten\n",
    "    img_array = np.array(img).flatten() / 255.0\n",
    "    \n",
    "    # Reshape to match the model's expected input shape\n",
    "    img_array = img_array.reshape(-1, 1)\n",
    "    \n",
    "    # Make prediction\n",
    "    prediction = predict(model_dict[\"w\"], model_dict[\"b\"], img_array)\n",
    "    \n",
    "    return int(prediction[0, 0])"
   ]
  },
  {
   "cell_type": "code",
   "execution_count": 44,
   "id": "48e19de1-2947-4b85-ba53-c07a50c23406",
   "metadata": {
    "tags": []
   },
   "outputs": [],
   "source": [
    "def display_example(X, y, idx, title):\n",
    "    \"\"\"\n",
    "    Display an example from the dataset\n",
    "    \n",
    "    Arguments:\n",
    "    X -- dataset features, shape (features, examples)\n",
    "    y -- dataset labels, shape (1, examples)\n",
    "    idx -- index of the example to display\n",
    "    title -- title for the plot\n",
    "    \"\"\"\n",
    "    # Get the example and reshape to 8x8\n",
    "    example = X[:, idx].reshape(8, 8)\n",
    "    \n",
    "    plt.figure(figsize=(4, 4))\n",
    "    plt.imshow(example, cmap='gray')\n",
    "    plt.title(f\"{title}\\nLabel: {int(y[0, idx])}\")\n",
    "    plt.axis('off')\n",
    "    plt.show()"
   ]
  },
  {
   "cell_type": "code",
   "execution_count": 45,
   "id": "33b3d8da-1563-4ca1-b82d-e1fbfb33f3b5",
   "metadata": {
    "tags": []
   },
   "outputs": [
    {
     "name": "stdout",
     "output_type": "stream",
     "text": [
      "X_train shape: (64, 288)\n",
      "y_train shape: (1, 288)\n",
      "X_test shape: (64, 72)\n",
      "y_test shape: (1, 72)\n"
     ]
    },
    {
     "data": {
      "image/png": "[encoded data removed]",
      "text/plain": [
       "<Figure size 400x400 with 1 Axes>"
      ]
     },
     "metadata": {},
     "output_type": "display_data"
    },
    {
     "name": "stdout",
     "output_type": "stream",
     "text": [
      "Cost after iteration 0: 0.6931471803599453\n",
      "Cost after iteration 100: 0.08281710637011214\n",
      "Cost after iteration 200: 0.047486815439146984\n",
      "Cost after iteration 300: 0.034349336179210294\n",
      "Cost after iteration 400: 0.02731166509589155\n",
      "Cost after iteration 500: 0.02286176907804792\n",
      "Cost after iteration 600: 0.019765379822246194\n",
      "Cost after iteration 700: 0.017471759670084193\n",
      "Cost after iteration 800: 0.015696211395772913\n",
      "Cost after iteration 900: 0.014275962689337963\n",
      "Cost after iteration 1000: 0.013110835945881909\n",
      "Cost after iteration 1100: 0.012135603435035898\n",
      "Cost after iteration 1200: 0.011305858828722553\n",
      "Cost after iteration 1300: 0.01059025804893486\n",
      "Cost after iteration 1400: 0.00996600491169902\n",
      "Cost after iteration 1500: 0.00941609712160929\n",
      "Cost after iteration 1600: 0.008927578173364282\n",
      "Cost after iteration 1700: 0.00849038969058931\n",
      "Cost after iteration 1800: 0.008096595766510346\n",
      "Cost after iteration 1900: 0.0077398453105822045\n",
      "Train accuracy: 100.00%\n",
      "Test accuracy: 100.00%\n"
     ]
    },
    {
     "data": {
      "image/png": "[encoded data removed]",
      "text/plain": [
       "<Figure size 1000x600 with 1 Axes>"
      ]
     },
     "metadata": {},
     "output_type": "display_data"
    },
    {
     "name": "stdout",
     "output_type": "stream",
     "text": [
      "Training a model with learning rate: 0.5\n",
      "Train accuracy: 100.00%\n",
      "Test accuracy: 100.00%\n",
      "\n",
      "-------------------------------------------------------\n",
      "\n",
      "Training a model with learning rate: 0.1\n",
      "Train accuracy: 100.00%\n",
      "Test accuracy: 100.00%\n",
      "\n",
      "-------------------------------------------------------\n",
      "\n",
      "Training a model with learning rate: 0.01\n",
      "Train accuracy: 100.00%\n",
      "Test accuracy: 100.00%\n",
      "\n",
      "-------------------------------------------------------\n",
      "\n"
     ]
    },
    {
     "data": {
      "image/png": "[encoded data removed]",
      "text/plain": [
       "<Figure size 1000x600 with 1 Axes>"
      ]
     },
     "metadata": {},
     "output_type": "display_data"
    },
    {
     "data": {
      "image/png": "[encoded data removed]",
      "text/plain": [
       "<Figure size 400x400 with 1 Axes>"
      ]
     },
     "metadata": {},
     "output_type": "display_data"
    },
    {
     "data": {
      "image/png": "[encoded data removed]",
      "text/plain": [
       "<Figure size 400x400 with 1 Axes>"
      ]
     },
     "metadata": {},
     "output_type": "display_data"
    },
    {
     "data": {
      "image/png": "[encoded data removed]",
      "text/plain": [
       "<Figure size 400x400 with 1 Axes>"
      ]
     },
     "metadata": {},
     "output_type": "display_data"
    },
    {
     "data": {
      "image/png": "[encoded data removed]",
      "text/plain": [
       "<Figure size 400x400 with 1 Axes>"
      ]
     },
     "metadata": {},
     "output_type": "display_data"
    },
    {
     "data": {
      "image/png": "[encoded data removed]",
      "text/plain": [
       "<Figure size 400x400 with 1 Axes>"
      ]
     },
     "metadata": {},
     "output_type": "display_data"
    }
   ],
   "source": [
    "def main():\n",
    "    # Load dataset\n",
    "    X_train, y_train, X_test, y_test, classes = load_basic_dataset()\n",
    "    \n",
    "    print(f\"X_train shape: {X_train.shape}\")\n",
    "    print(f\"y_train shape: {y_train.shape}\")\n",
    "    print(f\"X_test shape: {X_test.shape}\")\n",
    "    print(f\"y_test shape: {y_test.shape}\")\n",
    "    \n",
    "    # Display a training example\n",
    "    if X_train.shape[1] > 0:\n",
    "        display_example(X_train, y_train, 0, \"Training Example\")\n",
    "    \n",
    "    # Train logistic regression model\n",
    "    logistic_regression_model = model(\n",
    "        X_train, y_train, X_test, y_test,\n",
    "        num_iterations=2000, learning_rate=0.1, print_cost=True\n",
    "    )\n",
    "    \n",
    "    # Plot learning curve\n",
    "    costs = np.squeeze(logistic_regression_model['costs'])\n",
    "    plt.figure(figsize=(10, 6))\n",
    "    plt.plot(costs)\n",
    "    plt.ylabel('cost')\n",
    "    plt.xlabel('iterations (per hundreds)')\n",
    "    plt.title(f\"Learning rate = {logistic_regression_model['learning_rate']}\")\n",
    "    plt.show()\n",
    "    \n",
    "    # Try different learning rates\n",
    "    learning_rates = [0.5, 0.1, 0.01]\n",
    "    models = {}\n",
    "    \n",
    "    plt.figure(figsize=(10, 6))\n",
    "    \n",
    "    for lr in learning_rates:\n",
    "        print(f\"Training a model with learning rate: {lr}\")\n",
    "        models[str(lr)] = model(\n",
    "            X_train, y_train, X_test, y_test,\n",
    "            num_iterations=1500, learning_rate=lr, print_cost=False\n",
    "        )\n",
    "        print('\\n' + \"-------------------------------------------------------\" + '\\n')\n",
    "        \n",
    "        # Plot cost\n",
    "        plt.plot(np.squeeze(models[str(lr)][\"costs\"]), label=str(models[str(lr)][\"learning_rate\"]))\n",
    "    \n",
    "    plt.ylabel('cost')\n",
    "    plt.xlabel('iterations (hundreds)')\n",
    "    plt.legend(loc='upper center')\n",
    "    plt.show()\n",
    "    \n",
    "    # Display some test examples with predictions\n",
    "    for i in range(min(5, X_test.shape[1])):\n",
    "        # Get example and prediction\n",
    "        example = X_test[:, i].reshape(8, 8)\n",
    "        prediction = logistic_regression_model[\"Y_prediction_test\"][0, i]\n",
    "        true_label = y_test[0, i]\n",
    "        \n",
    "        # Display\n",
    "        plt.figure(figsize=(4, 4))\n",
    "        plt.imshow(example, cmap='gray')\n",
    "        plt.title(f\"True: {int(true_label)}, Predicted: {int(prediction)}\")\n",
    "        plt.axis('off')\n",
    "        plt.show()\n",
    "\n",
    "if __name__ == \"__main__\":\n",
    "    main()"
   ]
  },
  {
   "cell_type": "code",
   "execution_count": null,
   "id": "2ac14917-10f3-4e61-b94a-4650234c6f02",
   "metadata": {},
   "outputs": [],
   "source": []
  }
 ],
 "metadata": {
  "kernelspec": {
   "display_name": "Python 3 (ipykernel)",
   "language": "python",
   "name": "python3"
  },
  "language_info": {
   "codemirror_mode": {
    "name": "ipython",
    "version": 3
   },
   "file_extension": ".py",
   "mimetype": "text/x-python",
   "name": "python",
   "nbconvert_exporter": "python",
   "pygments_lexer": "ipython3",
   "version": "3.8.10"
  }
 },
 "nbformat": 4,
 "nbformat_minor": 5
}
